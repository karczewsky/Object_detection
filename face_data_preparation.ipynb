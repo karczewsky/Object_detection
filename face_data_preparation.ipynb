{
 "cells": [
  {
   "cell_type": "code",
   "execution_count": 1,
   "metadata": {
    "collapsed": true,
    "pycharm": {
     "name": "#%%\n"
    }
   },
   "outputs": [],
   "source": [
    "import os\n",
    "import pandas as pd\n",
    "from PIL import Image"
   ]
  },
  {
   "cell_type": "code",
   "execution_count": 2,
   "outputs": [],
   "source": [
    "DIR_PRODUCT_CATALOG_NATIVE = 'data/faces_native'\n",
    "DIR_PRODUCT_CATALOG_CONVERTED = 'data/faces_converted'\n",
    "DIR_CSV_DATAFRAMES = 'csv_dataframes'\n",
    "CSV_GTIN_DICT = f'{DIR_CSV_DATAFRAMES}/dictionary_gtin.csv'\n",
    "CSV_INPUT_FACES = f'{DIR_CSV_DATAFRAMES}/input_faces.csv'"
   ],
   "metadata": {
    "collapsed": false,
    "pycharm": {
     "name": "#%%\n"
    }
   }
  },
  {
   "cell_type": "code",
   "execution_count": 3,
   "outputs": [],
   "source": [
    "gtin_df = pd.read_csv(CSV_GTIN_DICT)\n",
    "gtin_df = gtin_df.dropna()\n",
    "gtin_df['GTIN'] = gtin_df['GTIN'].astype(int).astype(str)"
   ],
   "metadata": {
    "collapsed": false,
    "pycharm": {
     "name": "#%%\n"
    }
   }
  },
  {
   "cell_type": "code",
   "execution_count": 4,
   "outputs": [],
   "source": [
    "os.makedirs(DIR_PRODUCT_CATALOG_CONVERTED, exist_ok=True)\n",
    "for image_file in os.listdir(DIR_PRODUCT_CATALOG_NATIVE):\n",
    "    image = Image.open(f'{DIR_PRODUCT_CATALOG_NATIVE}/{image_file}')\n",
    "    image = image.convert('RGB')\n",
    "    image.save(f'{DIR_PRODUCT_CATALOG_CONVERTED}/{image_file.split(\".\")[0]}.jpg', 'JPEG')"
   ],
   "metadata": {
    "collapsed": false,
    "pycharm": {
     "name": "#%%\n"
    }
   }
  },
  {
   "cell_type": "code",
   "execution_count": 5,
   "outputs": [],
   "source": [
    "dict_for_pandas = {\n",
    "    'image': [],\n",
    "    'xmin': [],\n",
    "    'ymin': [],\n",
    "    'xmax': [],\n",
    "    'ymax': [],\n",
    "    'label': []\n",
    "}\n",
    "\n",
    "for image_file in os.listdir(DIR_PRODUCT_CATALOG_NATIVE):\n",
    "    img = Image.open(f'{DIR_PRODUCT_CATALOG_NATIVE}/{image_file}')\n",
    "    width, height = img.size\n",
    "\n",
    "    name = image_file.split('.')[0]\n",
    "    label = gtin_df.loc[gtin_df['GTIN'] == name]['Nazwa'].iloc[0]\n",
    "    dict_for_pandas['image'].append(f'{name}.jpg')\n",
    "    dict_for_pandas['xmin'].append(float(0))\n",
    "    dict_for_pandas['ymin'].append(float(0))\n",
    "    dict_for_pandas['xmax'].append(float(img.width))\n",
    "    dict_for_pandas['ymax'].append(float(img.height))\n",
    "    dict_for_pandas['label'].append(label)"
   ],
   "metadata": {
    "collapsed": false,
    "pycharm": {
     "name": "#%%\n"
    }
   }
  },
  {
   "cell_type": "code",
   "execution_count": 6,
   "outputs": [],
   "source": [
    "df_faces = pd.DataFrame(dict_for_pandas)\n",
    "for col in ['xmin', 'ymin', 'xmax', 'ymin']:\n",
    "    df_faces[col] = df_faces[col].astype(float)\n",
    "df_faces.to_csv(CSV_INPUT_FACES, index=False)"
   ],
   "metadata": {
    "collapsed": false,
    "pycharm": {
     "name": "#%%\n"
    }
   }
  },
  {
   "cell_type": "code",
   "execution_count": null,
   "outputs": [],
   "source": [],
   "metadata": {
    "collapsed": false,
    "pycharm": {
     "name": "#%%\n"
    }
   }
  }
 ],
 "metadata": {
  "kernelspec": {
   "display_name": "Python 3",
   "language": "python",
   "name": "python3"
  },
  "language_info": {
   "codemirror_mode": {
    "name": "ipython",
    "version": 2
   },
   "file_extension": ".py",
   "mimetype": "text/x-python",
   "name": "python",
   "nbconvert_exporter": "python",
   "pygments_lexer": "ipython2",
   "version": "2.7.6"
  }
 },
 "nbformat": 4,
 "nbformat_minor": 0
}