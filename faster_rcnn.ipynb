{
 "cells": [
  {
   "cell_type": "markdown",
   "metadata": {
    "pycharm": {
     "name": "#%% md\n"
    }
   },
   "source": [
    "# Praca Inżynierska\n",
    "## Jakub Karczewski"
   ]
  },
  {
   "cell_type": "code",
   "execution_count": 1,
   "metadata": {},
   "outputs": [
    {
     "data": {
      "text/plain": [
       "Reusing TensorBoard on port 9000 (pid 14794), started 1:19:32 ago. (Use '!kill 14794' to kill it.)"
      ]
     },
     "metadata": {},
     "output_type": "display_data"
    },
    {
     "data": {
      "text/html": [
       "\n",
       "      <iframe id=\"tensorboard-frame-1ee13b853cd204b8\" width=\"100%\" height=\"800\" frameborder=\"0\">\n",
       "      </iframe>\n",
       "      <script>\n",
       "        (function() {\n",
       "          const frame = document.getElementById(\"tensorboard-frame-1ee13b853cd204b8\");\n",
       "          const url = new URL(\"/\", window.location);\n",
       "          const port = 9000;\n",
       "          if (port) {\n",
       "            url.port = port;\n",
       "          }\n",
       "          frame.src = url;\n",
       "        })();\n",
       "      </script>\n",
       "    "
      ],
      "text/plain": [
       "<IPython.core.display.HTML object>"
      ]
     },
     "metadata": {},
     "output_type": "display_data"
    }
   ],
   "source": [
    "%load_ext tensorboard\n",
    "%tensorboard --logdir tensor_board --host localhost --port 9000"
   ]
  },
  {
   "cell_type": "code",
   "execution_count": 2,
   "metadata": {
    "pycharm": {
     "name": "#%%\n"
    }
   },
   "outputs": [
    {
     "data": {
      "text/plain": [
       "42"
      ]
     },
     "execution_count": 2,
     "metadata": {},
     "output_type": "execute_result"
    }
   ],
   "source": [
    "import os\n",
    "import albumentations as A\n",
    "import cv2\n",
    "import numpy as np\n",
    "import pandas as pd\n",
    "import pytorch_lightning as pl\n",
    "import torch\n",
    "import torchvision\n",
    "\n",
    "from albumentations.pytorch.transforms import ToTensorV2\n",
    "from functools import reduce\n",
    "from torch.utils.data import DataLoader, Dataset, random_split\n",
    "from torchvision.models.detection.faster_rcnn import FastRCNNPredictor\n",
    "\n",
    "from utilities.metrics import mean_average_precision\n",
    "from utilities.inference import infer_image\n",
    "\n",
    "DIR_CLASSIC_INPUT = 'data/classic'\n",
    "DF_CLASSIC_TRAIN = pd.read_csv('csv_dataframes/input_classic.csv')\n",
    "\n",
    "DIR_FACES_INPUT = 'data/faces_converted'\n",
    "DF_FACES = pd.read_csv('csv_dataframes/input_faces.csv')\n",
    "\n",
    "DIR_CLASSIC_INPUT_ALL = 'data/all_shelves'\n",
    "DIR_OUTPUT = 'data/inference'\n",
    "DEVICE_VALIDATION = 'cuda'\n",
    "\n",
    "pl.seed_everything(42)"
   ]
  },
  {
   "cell_type": "markdown",
   "metadata": {
    "pycharm": {
     "name": "#%% md\n"
    }
   },
   "source": [
    "## 1. Przygotowanie zbioru danych"
   ]
  },
  {
   "cell_type": "code",
   "execution_count": 3,
   "metadata": {
    "pycharm": {
     "name": "#%%\n"
    }
   },
   "outputs": [],
   "source": [
    "class PharmacyDataset(Dataset):\n",
    "\n",
    "    def __init__(self, dataframe, image_dir, transforms=None):\n",
    "        super().__init__()\n",
    "\n",
    "        unique_labels = dataframe['label'].unique()\n",
    "        unique_labels_dataframe = pd.DataFrame(data={\n",
    "            'label': unique_labels,\n",
    "            'label_id': [i+1 for i in range(unique_labels.shape[0])]\n",
    "        })\n",
    "\n",
    "        dataframe = dataframe.merge(unique_labels_dataframe, on='label')\n",
    "\n",
    "        self.image_names = dataframe['image'].unique()\n",
    "        self.df = dataframe\n",
    "        self.image_dir = image_dir\n",
    "        self.transforms = transforms\n",
    "        self.unique_labels_dataframe = unique_labels_dataframe\n",
    "\n",
    "    def __getitem__(self, index: int):\n",
    "        image_name = self.image_names[index]\n",
    "        records = self.df[self.df['image'] == image_name]\n",
    "        image = cv2.imread(f'{self.image_dir}/{image_name}', cv2.IMREAD_COLOR)\n",
    "        image = cv2.cvtColor(image, cv2.COLOR_BGR2RGB).astype(np.float32)\n",
    "        image /= 255.0\n",
    "\n",
    "        boxes = []\n",
    "        for row in records.iterrows():\n",
    "            row = row[1]\n",
    "            boxes.append([row['xmin'], row['ymin'], row['xmax'], row['ymax']])\n",
    "\n",
    "        boxes = torch.as_tensor(boxes, dtype=torch.float32)\n",
    "        area = (boxes[:, 3] - boxes[:, 1]) * (boxes[:, 2] - boxes[:, 0])\n",
    "\n",
    "        target = {\n",
    "            'boxes': boxes,\n",
    "            'labels': torch.as_tensor(records['label_id'].values, dtype=torch.int64),\n",
    "            'image_id': torch.as_tensor([index], dtype=torch.int64),\n",
    "            'area': torch.as_tensor(area, dtype=torch.float32),\n",
    "            'iscrowd': torch.zeros((records.shape[0],), dtype=torch.uint8)\n",
    "        }\n",
    "\n",
    "        if self.transforms:\n",
    "            sample = {\n",
    "                'image': image,\n",
    "                'bboxes': target['boxes'],\n",
    "                'labels': target['labels']\n",
    "            }\n",
    "            sample = self.transforms(**sample)\n",
    "            image = sample['image']\n",
    "\n",
    "            target['boxes'] = torch.stack(tuple(map(torch.tensor, zip(*sample['bboxes'])))).permute(1, 0)\n",
    "\n",
    "        return image, target, image_name\n",
    "\n",
    "    def __len__(self) -> int:\n",
    "        return self.image_names.shape[0]"
   ]
  },
  {
   "cell_type": "markdown",
   "metadata": {
    "pycharm": {
     "name": "#%% md\n"
    }
   },
   "source": [
    "## 2. Przygotowanie modelu"
   ]
  },
  {
   "cell_type": "code",
   "execution_count": 4,
   "metadata": {
    "pycharm": {
     "name": "#%%\n"
    }
   },
   "outputs": [],
   "source": [
    "def get_train_transform():\n",
    "    return A.Compose([\n",
    "        A.RandomBrightnessContrast(p=0.3),\n",
    "        A.ShiftScaleRotate(p=0.3),\n",
    "        ToTensorV2(p=1.0)\n",
    "    ], bbox_params=A.BboxParams(format='pascal_voc', label_fields=['labels']))\n",
    "\n",
    "def get_metrics_transform():\n",
    "    return A.Compose([\n",
    "        ToTensorV2(p=1.0)\n",
    "    ], bbox_params=A.BboxParams(format='pascal_voc', label_fields=['labels']))\n",
    "\n",
    "def collate_fn(batch):\n",
    "        return tuple(zip(*batch))\n",
    "\n",
    "def perform_metrics_calculations(outputs: torch.Tensor, targets: torch.Tensor):\n",
    "    l_targets = []\n",
    "    l_preds = []\n",
    "\n",
    "    for pred, target in zip(outputs, targets):\n",
    "        # sometimes target['labels'] is longer than target['boxes']\n",
    "        target['labels'] = target['labels'][:len(target['boxes'])]\n",
    "\n",
    "        t_targets = torch.cat([\n",
    "            torch.full((len(target['boxes']), 1), target['image_id'].item()).to('cuda'),\n",
    "            torch.unsqueeze(target['labels'], 0).t(),\n",
    "            target['boxes']\n",
    "        ], dim=1)\n",
    "        l_targets.append(t_targets)\n",
    "\n",
    "\n",
    "        t_pred = torch.cat([\n",
    "            torch.full((len(pred['boxes']), 1), target['image_id'].item()).to('cuda'),\n",
    "            torch.unsqueeze(pred['labels'], 0).t(),\n",
    "            torch.unsqueeze(pred['scores'], 0).t(),\n",
    "            pred['boxes']\n",
    "        ], dim=1)\n",
    "        l_preds.append(t_pred)\n",
    "\n",
    "    t_target = reduce(lambda a, b: torch.cat([a, b], dim=0), l_targets)\n",
    "    t_pred = reduce(lambda a, b: torch.cat([a, b], dim=0), l_preds)\n",
    "\n",
    "    return {\n",
    "        'target': t_target,\n",
    "        'pred': t_pred\n",
    "    }\n",
    "\n",
    "class FasterRcnn(pl.LightningModule):\n",
    "    def __init__(\n",
    "            self,\n",
    "            train_dataset: torch.utils.data.dataset.Subset,\n",
    "            valid_dataset: torch.utils.data.dataset.Subset,\n",
    "            test_dataset: torch.utils.data.dataset.Subset,\n",
    "            num_classes: int,\n",
    "            batch_size: int,\n",
    "            optimizer = torch.optim.AdamW,\n",
    "            optimizer_keys = None,\n",
    "            scheduler = torch.optim.lr_scheduler.ReduceLROnPlateau,\n",
    "            scheduler_keys = None,\n",
    "            # lr is only used when found, otherwise optimizer_keys lr is used\n",
    "            lr = None\n",
    "    ):\n",
    "        super(FasterRcnn, self).__init__()\n",
    "        self.batch_size = batch_size\n",
    "        self.train_dataset = train_dataset\n",
    "        self.valid_dataset = valid_dataset\n",
    "        self.test_dataset = test_dataset\n",
    "        self.optimizer = optimizer\n",
    "        self.optimizer_keys = optimizer_keys\n",
    "        self.scheduler = scheduler\n",
    "        self.scheduler_keys = scheduler_keys\n",
    "        self.lr = lr\n",
    "\n",
    "        model = torchvision.models.detection.fasterrcnn_resnet50_fpn(\n",
    "            pretrained=True,\n",
    "            pretrained_backbone=True,\n",
    "            trainable_backbone_layers=3\n",
    "        )\n",
    "\n",
    "        # get number of input features for the classifier\n",
    "        in_features = model.roi_heads.box_predictor.cls_score.in_features\n",
    "\n",
    "        # replace the pre-trained head with a new one\n",
    "        model.roi_heads.box_predictor = FastRCNNPredictor(in_features, num_classes)\n",
    "\n",
    "\n",
    "        self.model = model\n",
    "\n",
    "    def change_roi_heads(self, new_num_classes):\n",
    "        in_features = self.model.roi_heads.box_predictor.cls_score.in_features\n",
    "        self.model.roi_heads.box_predictor = FastRCNNPredictor(in_features, new_num_classes)\n",
    "\n",
    "    def forward(self, x):\n",
    "        return self.model(x)\n",
    "\n",
    "    def train_dataloader(self) -> DataLoader:\n",
    "       train_loader = DataLoader(self.train_dataset,\n",
    "                                 batch_size=self.batch_size,\n",
    "                                 num_workers=6,\n",
    "                                 shuffle=True,\n",
    "                                 collate_fn=collate_fn)\n",
    "       return train_loader\n",
    "\n",
    "    def val_dataloader(self) -> DataLoader:\n",
    "        valid_loader = DataLoader(self.valid_dataset,\n",
    "                                  batch_size=self.batch_size,\n",
    "                                  num_workers=6,\n",
    "                                  shuffle=False,\n",
    "                                  collate_fn=collate_fn)\n",
    "        return valid_loader\n",
    "\n",
    "    def test_dataloader(self) -> DataLoader:\n",
    "        test_loader = DataLoader(self.test_dataset,\n",
    "                                  batch_size=self.batch_size,\n",
    "                                  num_workers=6,\n",
    "                                  shuffle=False,\n",
    "                                  collate_fn=collate_fn)\n",
    "        return test_loader\n",
    "\n",
    "    def configure_optimizers(self):\n",
    "        params = [p for p in self.model.parameters() if p.requires_grad]\n",
    "\n",
    "        if self.lr is not None:\n",
    "            self.optimizer_keys['lr'] = self.lr\n",
    "\n",
    "        optimizer = self.optimizer(params=params, **self.optimizer_keys)\n",
    "        return ({\n",
    "            'optimizer': optimizer,\n",
    "            'lr_scheduler': self.scheduler(optimizer=optimizer, **self.scheduler_keys),\n",
    "            'interval': 'epoch',\n",
    "            'monitor': 'val_mAP'\n",
    "        })\n",
    "\n",
    "    def training_step(self, batch, batch_idx):\n",
    "        images, targets, img_name = batch\n",
    "        targets = [{k: v for k, v in t.items()} for t in targets]\n",
    "        # separate losses\n",
    "        loss_dict = self.model(images, targets)\n",
    "        # total loss\n",
    "        losses = sum(loss for loss in loss_dict.values())\n",
    "\n",
    "        # loss_dict contains training metrics:\n",
    "        # - loss_objectness: błąd informujący o rozróżnianiu obiektu od tła\n",
    "        # - loss_rpn_box_reg: błąd pozycjonowania proposal box'u przez RPN w wyniku regresji\n",
    "        # - loss_box_reg: błąd pozycjonowania anochor box'u w proposal box'ach\n",
    "        # - loss_classifier: błąd zaklasyfikowania obiektu do danej klasy\n",
    "        self.log_dict(loss_dict, prog_bar=True, logger=True)\n",
    "        self.log('main_loss', losses, prog_bar=False, logger=True)\n",
    "\n",
    "        return {'loss': losses}\n",
    "\n",
    "    def validation_step(self, batch, batch_idx):\n",
    "        images, targets, img_name = batch\n",
    "        targets = [{k: v for k, v in t.items()} for t in targets]\n",
    "\n",
    "        outputs = self.model(images, targets)\n",
    "\n",
    "        return perform_metrics_calculations(outputs, targets)\n",
    "\n",
    "    def validation_epoch_end(self, val_step_outputs):\n",
    "        t_target = reduce(lambda a, b: torch.cat([a, b], dim=0), [x['target'] for x in val_step_outputs])\n",
    "        t_pred = reduce(lambda a, b: torch.cat([a, b], dim=0), [x['pred'] for x in val_step_outputs])\n",
    "\n",
    "        val_mean_average_precision = mean_average_precision(\n",
    "            t_pred, t_target, iou_threshold=0.5, ap_calculation='COCO'\n",
    "        )\n",
    "        self.log('val_mAP', val_mean_average_precision.item(), prog_bar=True, logger=True)\n",
    "\n",
    "    def test_step(self, batch, batch_idx):\n",
    "        images, targets, img_name = batch\n",
    "        targets = [{k: v for k, v in t.items()} for t in targets]\n",
    "\n",
    "        outputs = self.model(images, targets)\n",
    "\n",
    "        return perform_metrics_calculations(outputs, targets)\n",
    "\n",
    "    def test_epoch_end(self, test_step_outputs):\n",
    "        t_target = reduce(lambda a, b: torch.cat([a, b], dim=0), [x['target'] for x in test_step_outputs])\n",
    "        t_pred = reduce(lambda a, b: torch.cat([a, b], dim=0), [x['pred'] for x in test_step_outputs])\n",
    "\n",
    "        val_mean_average_precision = mean_average_precision(\n",
    "            t_pred, t_target, iou_threshold=0.5, ap_calculation='COCO'\n",
    "        )\n",
    "        self.log('test_mAP', val_mean_average_precision.item(), prog_bar=True, logger=True)"
   ]
  },
  {
   "cell_type": "markdown",
   "metadata": {},
   "source": [
    "## 3. Trening modelu (opcjonalnie)\n",
    "Poniższy kod dokonuje:\n",
    "- podziału danych na zbiory: treningowy, walidacyjny i testowy,\n",
    "- treningu modelu dla zadanych konfiguracji\n",
    "\n",
    "Metryki z procesu treningu są widoczne w TensorBoard.\n",
    "\n",
    "Zapisane modelu są dostępne w folderze `saved_models` (ze względu na rozmiar modeli nie są one zapisywane na git)."
   ]
  },
  {
   "cell_type": "code",
   "execution_count": 5,
   "metadata": {
    "pycharm": {
     "name": "#%%\n"
    }
   },
   "outputs": [],
   "source": [
    "dataset_train = PharmacyDataset(DF_CLASSIC_TRAIN, DIR_CLASSIC_INPUT, transforms=get_train_transform())\n",
    "dataset_metrics = PharmacyDataset(DF_CLASSIC_TRAIN, DIR_CLASSIC_INPUT, transforms=get_metrics_transform())\n",
    "num_classes = len(DF_CLASSIC_TRAIN['label'].unique()) + 1\n",
    "\n",
    "train_cases = int(len(dataset_train) * 0.7)\n",
    "val_cases = int(len(dataset_train) * 0.15)\n",
    "test_cases = len(dataset_train) - train_cases - val_cases\n",
    "lengths = [train_cases, val_cases, test_cases]\n",
    "train_dataset, _, _ = random_split(dataset_train, lengths=lengths)\n",
    "_, valid_dataset, test_dataset = random_split(dataset_metrics, lengths=lengths)\n"
   ]
  },
  {
   "cell_type": "code",
   "execution_count": 6,
   "metadata": {
    "pycharm": {
     "name": "#%%\n"
    }
   },
   "outputs": [
    {
     "name": "stderr",
     "output_type": "stream",
     "text": [
      "/home/jkarczewski/miniconda3/envs/torchvision/lib/python3.8/site-packages/pytorch_lightning/utilities/distributed.py:49: UserWarning: Checkpoint directory saved_models/ exists and is not empty.\n",
      "  warnings.warn(*args, **kwargs)\n",
      "GPU available: True, used: True\n",
      "TPU available: None, using: 0 TPU cores\n",
      "LOCAL_RANK: 0 - CUDA_VISIBLE_DEVICES: [0]\n",
      "\n",
      "  | Name  | Type       | Params\n",
      "-------------------------------------\n",
      "0 | model | FasterRCNN | 41.5 M\n",
      "-------------------------------------\n",
      "41.2 M    Trainable params\n",
      "222 K     Non-trainable params\n",
      "41.5 M    Total params\n",
      "GPU available: True, used: True\n",
      "TPU available: None, using: 0 TPU cores\n",
      "LOCAL_RANK: 0 - CUDA_VISIBLE_DEVICES: [0]\n",
      "\n",
      "  | Name  | Type       | Params\n",
      "-------------------------------------\n",
      "0 | model | FasterRCNN | 41.5 M\n",
      "-------------------------------------\n",
      "41.2 M    Trainable params\n",
      "222 K     Non-trainable params\n",
      "41.5 M    Total params\n"
     ]
    },
    {
     "data": {
      "application/vnd.jupyter.widget-view+json": {
       "model_id": "7db9080950884569b16ea622316d174a",
       "version_major": 2,
       "version_minor": 0
      },
      "text/plain": [
       "Validation sanity check: |          | 0/? [00:00<?, ?it/s]"
      ]
     },
     "metadata": {},
     "output_type": "display_data"
    },
    {
     "data": {
      "application/vnd.jupyter.widget-view+json": {
       "model_id": "33d02950bf8d46ec89ea722b48254f83",
       "version_major": 2,
       "version_minor": 0
      },
      "text/plain": [
       "Training: |          | 0/? [00:00<?, ?it/s]"
      ]
     },
     "metadata": {},
     "output_type": "display_data"
    },
    {
     "data": {
      "application/vnd.jupyter.widget-view+json": {
       "model_id": "1c77942bc5204c3d91005f508c389354",
       "version_major": 2,
       "version_minor": 0
      },
      "text/plain": [
       "Validating: |          | 0/? [00:00<?, ?it/s]"
      ]
     },
     "metadata": {},
     "output_type": "display_data"
    },
    {
     "data": {
      "application/vnd.jupyter.widget-view+json": {
       "model_id": "6791f7763e264fec8501d7b29e44c081",
       "version_major": 2,
       "version_minor": 0
      },
      "text/plain": [
       "Validating: |          | 0/? [00:00<?, ?it/s]"
      ]
     },
     "metadata": {},
     "output_type": "display_data"
    },
    {
     "data": {
      "application/vnd.jupyter.widget-view+json": {
       "model_id": "fa54aa317a864c70944861a17117e55f",
       "version_major": 2,
       "version_minor": 0
      },
      "text/plain": [
       "Validating: |          | 0/? [00:00<?, ?it/s]"
      ]
     },
     "metadata": {},
     "output_type": "display_data"
    },
    {
     "data": {
      "application/vnd.jupyter.widget-view+json": {
       "model_id": "0544049b629344ad9859ea50a6d65827",
       "version_major": 2,
       "version_minor": 0
      },
      "text/plain": [
       "Validating: |          | 0/? [00:00<?, ?it/s]"
      ]
     },
     "metadata": {},
     "output_type": "display_data"
    },
    {
     "data": {
      "application/vnd.jupyter.widget-view+json": {
       "model_id": "e0702f451bbc46dabcd8e8885bc9b12e",
       "version_major": 2,
       "version_minor": 0
      },
      "text/plain": [
       "Validating: |          | 0/? [00:00<?, ?it/s]"
      ]
     },
     "metadata": {},
     "output_type": "display_data"
    },
    {
     "data": {
      "application/vnd.jupyter.widget-view+json": {
       "model_id": "584cd1b7640e4f96b6249d61c00e7bbb",
       "version_major": 2,
       "version_minor": 0
      },
      "text/plain": [
       "Validating: |          | 0/? [00:00<?, ?it/s]"
      ]
     },
     "metadata": {},
     "output_type": "display_data"
    },
    {
     "data": {
      "application/vnd.jupyter.widget-view+json": {
       "model_id": "26f0b559d7dc413abf7ddefe2dd1e1e4",
       "version_major": 2,
       "version_minor": 0
      },
      "text/plain": [
       "Validating: |          | 0/? [00:00<?, ?it/s]"
      ]
     },
     "metadata": {},
     "output_type": "display_data"
    },
    {
     "data": {
      "application/vnd.jupyter.widget-view+json": {
       "model_id": "1f8fe97a5d4649678238d347f9730517",
       "version_major": 2,
       "version_minor": 0
      },
      "text/plain": [
       "Validating: |          | 0/? [00:00<?, ?it/s]"
      ]
     },
     "metadata": {},
     "output_type": "display_data"
    },
    {
     "data": {
      "application/vnd.jupyter.widget-view+json": {
       "model_id": "274b4fd956a7474b8229fa6637e1258c",
       "version_major": 2,
       "version_minor": 0
      },
      "text/plain": [
       "Validating: |          | 0/? [00:00<?, ?it/s]"
      ]
     },
     "metadata": {},
     "output_type": "display_data"
    },
    {
     "data": {
      "application/vnd.jupyter.widget-view+json": {
       "model_id": "c5c2226804174dddad968a172a26da5b",
       "version_major": 2,
       "version_minor": 0
      },
      "text/plain": [
       "Validating: |          | 0/? [00:00<?, ?it/s]"
      ]
     },
     "metadata": {},
     "output_type": "display_data"
    },
    {
     "data": {
      "application/vnd.jupyter.widget-view+json": {
       "model_id": "36abb3b32932425fb482341a07351968",
       "version_major": 2,
       "version_minor": 0
      },
      "text/plain": [
       "Validating: |          | 0/? [00:00<?, ?it/s]"
      ]
     },
     "metadata": {},
     "output_type": "display_data"
    },
    {
     "data": {
      "application/vnd.jupyter.widget-view+json": {
       "model_id": "a390448b0002423082c9fe1765f94ed1",
       "version_major": 2,
       "version_minor": 0
      },
      "text/plain": [
       "Validating: |          | 0/? [00:00<?, ?it/s]"
      ]
     },
     "metadata": {},
     "output_type": "display_data"
    },
    {
     "data": {
      "application/vnd.jupyter.widget-view+json": {
       "model_id": "62c7f501d67149e4bfa463fabbd76d16",
       "version_major": 2,
       "version_minor": 0
      },
      "text/plain": [
       "Validating: |          | 0/? [00:00<?, ?it/s]"
      ]
     },
     "metadata": {},
     "output_type": "display_data"
    },
    {
     "data": {
      "application/vnd.jupyter.widget-view+json": {
       "model_id": "92e76169efbd4603b81f625b0f4c077b",
       "version_major": 2,
       "version_minor": 0
      },
      "text/plain": [
       "Validating: |          | 0/? [00:00<?, ?it/s]"
      ]
     },
     "metadata": {},
     "output_type": "display_data"
    },
    {
     "data": {
      "application/vnd.jupyter.widget-view+json": {
       "model_id": "6accf646083443dd8b84a4890d68ba8f",
       "version_major": 2,
       "version_minor": 0
      },
      "text/plain": [
       "Validating: |          | 0/? [00:00<?, ?it/s]"
      ]
     },
     "metadata": {},
     "output_type": "display_data"
    },
    {
     "data": {
      "application/vnd.jupyter.widget-view+json": {
       "model_id": "9e481a344e184b33b06db6a3808447f9",
       "version_major": 2,
       "version_minor": 0
      },
      "text/plain": [
       "Validating: |          | 0/? [00:00<?, ?it/s]"
      ]
     },
     "metadata": {},
     "output_type": "display_data"
    },
    {
     "data": {
      "application/vnd.jupyter.widget-view+json": {
       "model_id": "e73116da59f34425a8057b47eb06698d",
       "version_major": 2,
       "version_minor": 0
      },
      "text/plain": [
       "Validating: |          | 0/? [00:00<?, ?it/s]"
      ]
     },
     "metadata": {},
     "output_type": "display_data"
    },
    {
     "data": {
      "application/vnd.jupyter.widget-view+json": {
       "model_id": "413510bf519e41fc8eea08d39038a23d",
       "version_major": 2,
       "version_minor": 0
      },
      "text/plain": [
       "Validating: |          | 0/? [00:00<?, ?it/s]"
      ]
     },
     "metadata": {},
     "output_type": "display_data"
    },
    {
     "data": {
      "application/vnd.jupyter.widget-view+json": {
       "model_id": "39b5b5bbe4da4b78af84399103699383",
       "version_major": 2,
       "version_minor": 0
      },
      "text/plain": [
       "Validating: |          | 0/? [00:00<?, ?it/s]"
      ]
     },
     "metadata": {},
     "output_type": "display_data"
    },
    {
     "data": {
      "application/vnd.jupyter.widget-view+json": {
       "model_id": "eb8ce9d6a10d44f1a30e4dda36372d1e",
       "version_major": 2,
       "version_minor": 0
      },
      "text/plain": [
       "Validating: |          | 0/? [00:00<?, ?it/s]"
      ]
     },
     "metadata": {},
     "output_type": "display_data"
    },
    {
     "data": {
      "application/vnd.jupyter.widget-view+json": {
       "model_id": "34f1d0bc756d4a33a54c88dcb2879cae",
       "version_major": 2,
       "version_minor": 0
      },
      "text/plain": [
       "Validating: |          | 0/? [00:00<?, ?it/s]"
      ]
     },
     "metadata": {},
     "output_type": "display_data"
    },
    {
     "data": {
      "application/vnd.jupyter.widget-view+json": {
       "model_id": "0edd75d3f77a4f84af00abb12b1ed57c",
       "version_major": 2,
       "version_minor": 0
      },
      "text/plain": [
       "Validating: |          | 0/? [00:00<?, ?it/s]"
      ]
     },
     "metadata": {},
     "output_type": "display_data"
    },
    {
     "data": {
      "application/vnd.jupyter.widget-view+json": {
       "model_id": "dcb8d443dc8145b7b4706a5d5bc811be",
       "version_major": 2,
       "version_minor": 0
      },
      "text/plain": [
       "Validating: |          | 0/? [00:00<?, ?it/s]"
      ]
     },
     "metadata": {},
     "output_type": "display_data"
    },
    {
     "data": {
      "application/vnd.jupyter.widget-view+json": {
       "model_id": "f241f12d362a498b958df1af53781803",
       "version_major": 2,
       "version_minor": 0
      },
      "text/plain": [
       "Validating: |          | 0/? [00:00<?, ?it/s]"
      ]
     },
     "metadata": {},
     "output_type": "display_data"
    },
    {
     "data": {
      "application/vnd.jupyter.widget-view+json": {
       "model_id": "8639b9f4df9a421da301e4616cff45de",
       "version_major": 2,
       "version_minor": 0
      },
      "text/plain": [
       "Validating: |          | 0/? [00:00<?, ?it/s]"
      ]
     },
     "metadata": {},
     "output_type": "display_data"
    },
    {
     "data": {
      "application/vnd.jupyter.widget-view+json": {
       "model_id": "5bd7d5dd3df94e07ade49ba1b35d37b8",
       "version_major": 2,
       "version_minor": 0
      },
      "text/plain": [
       "Validating: |          | 0/? [00:00<?, ?it/s]"
      ]
     },
     "metadata": {},
     "output_type": "display_data"
    },
    {
     "data": {
      "application/vnd.jupyter.widget-view+json": {
       "model_id": "b28f8fe429d14ae1a0db3cfa8c85872a",
       "version_major": 2,
       "version_minor": 0
      },
      "text/plain": [
       "Validating: |          | 0/? [00:00<?, ?it/s]"
      ]
     },
     "metadata": {},
     "output_type": "display_data"
    },
    {
     "data": {
      "application/vnd.jupyter.widget-view+json": {
       "model_id": "3779c2b05e4d4374a4a4c145c7c10e73",
       "version_major": 2,
       "version_minor": 0
      },
      "text/plain": [
       "Validating: |          | 0/? [00:00<?, ?it/s]"
      ]
     },
     "metadata": {},
     "output_type": "display_data"
    },
    {
     "data": {
      "application/vnd.jupyter.widget-view+json": {
       "model_id": "ad71a9d52dc14d149c1bfdcb4c9c8548",
       "version_major": 2,
       "version_minor": 0
      },
      "text/plain": [
       "Testing: |          | 0/? [00:00<?, ?it/s]"
      ]
     },
     "metadata": {},
     "output_type": "display_data"
    },
    {
     "name": "stdout",
     "output_type": "stream",
     "text": [
      "--------------------------------------------------------------------------------\n",
      "DATALOADER:0 TEST RESULTS\n",
      "{'test_mAP': 0.7586678862571716}\n",
      "--------------------------------------------------------------------------------\n",
      "--------------------------------------------------------------------------------\n",
      "DATALOADER:0 TEST RESULTS\n",
      "{'test_mAP': 0.7863180041313171}\n",
      "--------------------------------------------------------------------------------\n"
     ]
    },
    {
     "data": {
      "application/vnd.jupyter.widget-view+json": {
       "model_id": "ff6a66d4dbf247afbb22ad6f586c975a",
       "version_major": 2,
       "version_minor": 0
      },
      "text/plain": [
       "Validation sanity check: |          | 0/? [00:00<?, ?it/s]"
      ]
     },
     "metadata": {},
     "output_type": "display_data"
    },
    {
     "data": {
      "application/vnd.jupyter.widget-view+json": {
       "model_id": "849c4ca39a934095b544399aa881c822",
       "version_major": 2,
       "version_minor": 0
      },
      "text/plain": [
       "Training: |          | 0/? [00:00<?, ?it/s]"
      ]
     },
     "metadata": {},
     "output_type": "display_data"
    },
    {
     "data": {
      "application/vnd.jupyter.widget-view+json": {
       "model_id": "590ef6df016046a1b28a1acf338a51fb",
       "version_major": 2,
       "version_minor": 0
      },
      "text/plain": [
       "Validating: |          | 0/? [00:00<?, ?it/s]"
      ]
     },
     "metadata": {},
     "output_type": "display_data"
    },
    {
     "data": {
      "application/vnd.jupyter.widget-view+json": {
       "model_id": "2d9d1d8a448a4da2a6567bdcd719fc85",
       "version_major": 2,
       "version_minor": 0
      },
      "text/plain": [
       "Validating: |          | 0/? [00:00<?, ?it/s]"
      ]
     },
     "metadata": {},
     "output_type": "display_data"
    },
    {
     "data": {
      "application/vnd.jupyter.widget-view+json": {
       "model_id": "dc12bcfe1def4b2f8fa1fc6d6eb87daf",
       "version_major": 2,
       "version_minor": 0
      },
      "text/plain": [
       "Validating: |          | 0/? [00:00<?, ?it/s]"
      ]
     },
     "metadata": {},
     "output_type": "display_data"
    },
    {
     "data": {
      "application/vnd.jupyter.widget-view+json": {
       "model_id": "3e5e453d85d34deca162f18e1a799375",
       "version_major": 2,
       "version_minor": 0
      },
      "text/plain": [
       "Validating: |          | 0/? [00:00<?, ?it/s]"
      ]
     },
     "metadata": {},
     "output_type": "display_data"
    },
    {
     "data": {
      "application/vnd.jupyter.widget-view+json": {
       "model_id": "faa6d9fd2c6d40bc9a5571bfa49edb90",
       "version_major": 2,
       "version_minor": 0
      },
      "text/plain": [
       "Validating: |          | 0/? [00:00<?, ?it/s]"
      ]
     },
     "metadata": {},
     "output_type": "display_data"
    },
    {
     "data": {
      "application/vnd.jupyter.widget-view+json": {
       "model_id": "6a49a387af584f5badf7e0e54d7e68c1",
       "version_major": 2,
       "version_minor": 0
      },
      "text/plain": [
       "Validating: |          | 0/? [00:00<?, ?it/s]"
      ]
     },
     "metadata": {},
     "output_type": "display_data"
    },
    {
     "data": {
      "application/vnd.jupyter.widget-view+json": {
       "model_id": "d9dcbb2969394147895f9fe1d40f009e",
       "version_major": 2,
       "version_minor": 0
      },
      "text/plain": [
       "Validating: |          | 0/? [00:00<?, ?it/s]"
      ]
     },
     "metadata": {},
     "output_type": "display_data"
    },
    {
     "data": {
      "application/vnd.jupyter.widget-view+json": {
       "model_id": "df7ae4fdd31a4434a7aff73cbbbb5849",
       "version_major": 2,
       "version_minor": 0
      },
      "text/plain": [
       "Validating: |          | 0/? [00:00<?, ?it/s]"
      ]
     },
     "metadata": {},
     "output_type": "display_data"
    },
    {
     "data": {
      "application/vnd.jupyter.widget-view+json": {
       "model_id": "08a7b9aa40264b66a02aa453d9fbab59",
       "version_major": 2,
       "version_minor": 0
      },
      "text/plain": [
       "Validating: |          | 0/? [00:00<?, ?it/s]"
      ]
     },
     "metadata": {},
     "output_type": "display_data"
    },
    {
     "data": {
      "application/vnd.jupyter.widget-view+json": {
       "model_id": "a20f3ecae3f54ffba50e0068b0e6de85",
       "version_major": 2,
       "version_minor": 0
      },
      "text/plain": [
       "Validating: |          | 0/? [00:00<?, ?it/s]"
      ]
     },
     "metadata": {},
     "output_type": "display_data"
    },
    {
     "data": {
      "application/vnd.jupyter.widget-view+json": {
       "model_id": "6e1e494e50d944a2b6ba11c6d5c9f386",
       "version_major": 2,
       "version_minor": 0
      },
      "text/plain": [
       "Validating: |          | 0/? [00:00<?, ?it/s]"
      ]
     },
     "metadata": {},
     "output_type": "display_data"
    },
    {
     "data": {
      "application/vnd.jupyter.widget-view+json": {
       "model_id": "bd22f19d1cf04f209b7c9d9294881a2d",
       "version_major": 2,
       "version_minor": 0
      },
      "text/plain": [
       "Validating: |          | 0/? [00:00<?, ?it/s]"
      ]
     },
     "metadata": {},
     "output_type": "display_data"
    },
    {
     "data": {
      "application/vnd.jupyter.widget-view+json": {
       "model_id": "2c2abe9fb2964338b9923414b6816122",
       "version_major": 2,
       "version_minor": 0
      },
      "text/plain": [
       "Validating: |          | 0/? [00:00<?, ?it/s]"
      ]
     },
     "metadata": {},
     "output_type": "display_data"
    },
    {
     "data": {
      "application/vnd.jupyter.widget-view+json": {
       "model_id": "3b7ddcc9c87a41588218b08e7bcd43ca",
       "version_major": 2,
       "version_minor": 0
      },
      "text/plain": [
       "Validating: |          | 0/? [00:00<?, ?it/s]"
      ]
     },
     "metadata": {},
     "output_type": "display_data"
    },
    {
     "data": {
      "application/vnd.jupyter.widget-view+json": {
       "model_id": "84e38f7988ae41aa8fa068a87dd14b01",
       "version_major": 2,
       "version_minor": 0
      },
      "text/plain": [
       "Validating: |          | 0/? [00:00<?, ?it/s]"
      ]
     },
     "metadata": {},
     "output_type": "display_data"
    },
    {
     "data": {
      "application/vnd.jupyter.widget-view+json": {
       "model_id": "6f9c5f06ba214facbf5810768c20a1cb",
       "version_major": 2,
       "version_minor": 0
      },
      "text/plain": [
       "Validating: |          | 0/? [00:00<?, ?it/s]"
      ]
     },
     "metadata": {},
     "output_type": "display_data"
    },
    {
     "data": {
      "application/vnd.jupyter.widget-view+json": {
       "model_id": "450c9da0cbb741eea0e6df2c1ea87972",
       "version_major": 2,
       "version_minor": 0
      },
      "text/plain": [
       "Validating: |          | 0/? [00:00<?, ?it/s]"
      ]
     },
     "metadata": {},
     "output_type": "display_data"
    },
    {
     "data": {
      "application/vnd.jupyter.widget-view+json": {
       "model_id": "42fb3009868d42fb81fad850b90f4743",
       "version_major": 2,
       "version_minor": 0
      },
      "text/plain": [
       "Validating: |          | 0/? [00:00<?, ?it/s]"
      ]
     },
     "metadata": {},
     "output_type": "display_data"
    },
    {
     "data": {
      "application/vnd.jupyter.widget-view+json": {
       "model_id": "07d7973e75454b989d5ee51352a328f9",
       "version_major": 2,
       "version_minor": 0
      },
      "text/plain": [
       "Validating: |          | 0/? [00:00<?, ?it/s]"
      ]
     },
     "metadata": {},
     "output_type": "display_data"
    },
    {
     "data": {
      "application/vnd.jupyter.widget-view+json": {
       "model_id": "7972142f2b91444cacb337287d72ff6b",
       "version_major": 2,
       "version_minor": 0
      },
      "text/plain": [
       "Validating: |          | 0/? [00:00<?, ?it/s]"
      ]
     },
     "metadata": {},
     "output_type": "display_data"
    },
    {
     "data": {
      "application/vnd.jupyter.widget-view+json": {
       "model_id": "88f32efa6c2441e3a451fc9597e23314",
       "version_major": 2,
       "version_minor": 0
      },
      "text/plain": [
       "Validating: |          | 0/? [00:00<?, ?it/s]"
      ]
     },
     "metadata": {},
     "output_type": "display_data"
    },
    {
     "data": {
      "application/vnd.jupyter.widget-view+json": {
       "model_id": "bd668ef7447c465a9a5922bfd68e412e",
       "version_major": 2,
       "version_minor": 0
      },
      "text/plain": [
       "Validating: |          | 0/? [00:00<?, ?it/s]"
      ]
     },
     "metadata": {},
     "output_type": "display_data"
    },
    {
     "data": {
      "application/vnd.jupyter.widget-view+json": {
       "model_id": "b86b59388fe04207b4a8b1ca8b06b679",
       "version_major": 2,
       "version_minor": 0
      },
      "text/plain": [
       "Validating: |          | 0/? [00:00<?, ?it/s]"
      ]
     },
     "metadata": {},
     "output_type": "display_data"
    },
    {
     "data": {
      "application/vnd.jupyter.widget-view+json": {
       "model_id": "44cc6adcb0434e3ebe1cfe8d0367ad82",
       "version_major": 2,
       "version_minor": 0
      },
      "text/plain": [
       "Validating: |          | 0/? [00:00<?, ?it/s]"
      ]
     },
     "metadata": {},
     "output_type": "display_data"
    },
    {
     "data": {
      "application/vnd.jupyter.widget-view+json": {
       "model_id": "ff9f417ea16b42c28bfe92ada8e75bd1",
       "version_major": 2,
       "version_minor": 0
      },
      "text/plain": [
       "Validating: |          | 0/? [00:00<?, ?it/s]"
      ]
     },
     "metadata": {},
     "output_type": "display_data"
    },
    {
     "data": {
      "application/vnd.jupyter.widget-view+json": {
       "model_id": "3513fc3bf387403b91ad31082649ed96",
       "version_major": 2,
       "version_minor": 0
      },
      "text/plain": [
       "Validating: |          | 0/? [00:00<?, ?it/s]"
      ]
     },
     "metadata": {},
     "output_type": "display_data"
    },
    {
     "data": {
      "application/vnd.jupyter.widget-view+json": {
       "model_id": "9407ce8b6abd4ea796e1adbecfb83b21",
       "version_major": 2,
       "version_minor": 0
      },
      "text/plain": [
       "Validating: |          | 0/? [00:00<?, ?it/s]"
      ]
     },
     "metadata": {},
     "output_type": "display_data"
    },
    {
     "data": {
      "application/vnd.jupyter.widget-view+json": {
       "model_id": "22f0d179cc2747619f7ecde9f4d7380d",
       "version_major": 2,
       "version_minor": 0
      },
      "text/plain": [
       "Validating: |          | 0/? [00:00<?, ?it/s]"
      ]
     },
     "metadata": {},
     "output_type": "display_data"
    },
    {
     "data": {
      "application/vnd.jupyter.widget-view+json": {
       "model_id": "d144a9413f6b4f50b2fae87ada5af00a",
       "version_major": 2,
       "version_minor": 0
      },
      "text/plain": [
       "Validating: |          | 0/? [00:00<?, ?it/s]"
      ]
     },
     "metadata": {},
     "output_type": "display_data"
    },
    {
     "data": {
      "application/vnd.jupyter.widget-view+json": {
       "model_id": "a4707b2c85ca49cca36b98e6dfb0b25c",
       "version_major": 2,
       "version_minor": 0
      },
      "text/plain": [
       "Validating: |          | 0/? [00:00<?, ?it/s]"
      ]
     },
     "metadata": {},
     "output_type": "display_data"
    },
    {
     "data": {
      "application/vnd.jupyter.widget-view+json": {
       "model_id": "fb3a1066fc084ece9e4b0f98fb3cef53",
       "version_major": 2,
       "version_minor": 0
      },
      "text/plain": [
       "Validating: |          | 0/? [00:00<?, ?it/s]"
      ]
     },
     "metadata": {},
     "output_type": "display_data"
    },
    {
     "data": {
      "application/vnd.jupyter.widget-view+json": {
       "model_id": "60516515f9e8455fb850745a75453e67",
       "version_major": 2,
       "version_minor": 0
      },
      "text/plain": [
       "Validating: |          | 0/? [00:00<?, ?it/s]"
      ]
     },
     "metadata": {},
     "output_type": "display_data"
    },
    {
     "data": {
      "application/vnd.jupyter.widget-view+json": {
       "model_id": "88cda5b2608c4213b940825a86208abc",
       "version_major": 2,
       "version_minor": 0
      },
      "text/plain": [
       "Validating: |          | 0/? [00:00<?, ?it/s]"
      ]
     },
     "metadata": {},
     "output_type": "display_data"
    },
    {
     "data": {
      "application/vnd.jupyter.widget-view+json": {
       "model_id": "e301f11d906243a5a4bcb1bf92139079",
       "version_major": 2,
       "version_minor": 0
      },
      "text/plain": [
       "Validating: |          | 0/? [00:00<?, ?it/s]"
      ]
     },
     "metadata": {},
     "output_type": "display_data"
    },
    {
     "data": {
      "application/vnd.jupyter.widget-view+json": {
       "model_id": "56180394fae34977aa15a0886007a487",
       "version_major": 2,
       "version_minor": 0
      },
      "text/plain": [
       "Validating: |          | 0/? [00:00<?, ?it/s]"
      ]
     },
     "metadata": {},
     "output_type": "display_data"
    },
    {
     "data": {
      "application/vnd.jupyter.widget-view+json": {
       "model_id": "a5dc10baa7bc4682bad973752c4344fe",
       "version_major": 2,
       "version_minor": 0
      },
      "text/plain": [
       "Validating: |          | 0/? [00:00<?, ?it/s]"
      ]
     },
     "metadata": {},
     "output_type": "display_data"
    },
    {
     "data": {
      "application/vnd.jupyter.widget-view+json": {
       "model_id": "6e56ab88238e46dbbbd76df19820c28a",
       "version_major": 2,
       "version_minor": 0
      },
      "text/plain": [
       "Validating: |          | 0/? [00:00<?, ?it/s]"
      ]
     },
     "metadata": {},
     "output_type": "display_data"
    },
    {
     "data": {
      "application/vnd.jupyter.widget-view+json": {
       "model_id": "f10369c3506a42fba0d1f3b50d48b1b4",
       "version_major": 2,
       "version_minor": 0
      },
      "text/plain": [
       "Validating: |          | 0/? [00:00<?, ?it/s]"
      ]
     },
     "metadata": {},
     "output_type": "display_data"
    },
    {
     "data": {
      "application/vnd.jupyter.widget-view+json": {
       "model_id": "918fe00b1e494a08a02cb75431e8a660",
       "version_major": 2,
       "version_minor": 0
      },
      "text/plain": [
       "Validating: |          | 0/? [00:00<?, ?it/s]"
      ]
     },
     "metadata": {},
     "output_type": "display_data"
    },
    {
     "data": {
      "application/vnd.jupyter.widget-view+json": {
       "model_id": "7be2af9fea024ea5926133bf0b1b90b3",
       "version_major": 2,
       "version_minor": 0
      },
      "text/plain": [
       "Validating: |          | 0/? [00:00<?, ?it/s]"
      ]
     },
     "metadata": {},
     "output_type": "display_data"
    },
    {
     "data": {
      "application/vnd.jupyter.widget-view+json": {
       "model_id": "7e4699120f6a457e98001c89c87953a8",
       "version_major": 2,
       "version_minor": 0
      },
      "text/plain": [
       "Validating: |          | 0/? [00:00<?, ?it/s]"
      ]
     },
     "metadata": {},
     "output_type": "display_data"
    },
    {
     "data": {
      "application/vnd.jupyter.widget-view+json": {
       "model_id": "bbee12afdc134c97962b174e8f5edf63",
       "version_major": 2,
       "version_minor": 0
      },
      "text/plain": [
       "Validating: |          | 0/? [00:00<?, ?it/s]"
      ]
     },
     "metadata": {},
     "output_type": "display_data"
    },
    {
     "data": {
      "application/vnd.jupyter.widget-view+json": {
       "model_id": "b04341cb345b46d5b4963712fd601be5",
       "version_major": 2,
       "version_minor": 0
      },
      "text/plain": [
       "Validating: |          | 0/? [00:00<?, ?it/s]"
      ]
     },
     "metadata": {},
     "output_type": "display_data"
    },
    {
     "data": {
      "application/vnd.jupyter.widget-view+json": {
       "model_id": "ffa36f9b7a854b298df6e8f2f2dbae1b",
       "version_major": 2,
       "version_minor": 0
      },
      "text/plain": [
       "Validating: |          | 0/? [00:00<?, ?it/s]"
      ]
     },
     "metadata": {},
     "output_type": "display_data"
    },
    {
     "data": {
      "application/vnd.jupyter.widget-view+json": {
       "model_id": "c73615f0d3f743d6a809e37fd5fdd07a",
       "version_major": 2,
       "version_minor": 0
      },
      "text/plain": [
       "Validating: |          | 0/? [00:00<?, ?it/s]"
      ]
     },
     "metadata": {},
     "output_type": "display_data"
    },
    {
     "data": {
      "application/vnd.jupyter.widget-view+json": {
       "model_id": "2629b0f138c14af3b67ccb596d4abc11",
       "version_major": 2,
       "version_minor": 0
      },
      "text/plain": [
       "Validating: |          | 0/? [00:00<?, ?it/s]"
      ]
     },
     "metadata": {},
     "output_type": "display_data"
    },
    {
     "data": {
      "application/vnd.jupyter.widget-view+json": {
       "model_id": "211d836471e54bed8c2615764abc38fe",
       "version_major": 2,
       "version_minor": 0
      },
      "text/plain": [
       "Validating: |          | 0/? [00:00<?, ?it/s]"
      ]
     },
     "metadata": {},
     "output_type": "display_data"
    },
    {
     "data": {
      "application/vnd.jupyter.widget-view+json": {
       "model_id": "88e6c251ecc248a8ac2004b46662d783",
       "version_major": 2,
       "version_minor": 0
      },
      "text/plain": [
       "Validating: |          | 0/? [00:00<?, ?it/s]"
      ]
     },
     "metadata": {},
     "output_type": "display_data"
    },
    {
     "data": {
      "application/vnd.jupyter.widget-view+json": {
       "model_id": "187b7dd86fab463ea15e0211e241bb31",
       "version_major": 2,
       "version_minor": 0
      },
      "text/plain": [
       "Validating: |          | 0/? [00:00<?, ?it/s]"
      ]
     },
     "metadata": {},
     "output_type": "display_data"
    },
    {
     "data": {
      "application/vnd.jupyter.widget-view+json": {
       "model_id": "7bfc195ba4d1478aad6e342886c57310",
       "version_major": 2,
       "version_minor": 0
      },
      "text/plain": [
       "Validating: |          | 0/? [00:00<?, ?it/s]"
      ]
     },
     "metadata": {},
     "output_type": "display_data"
    },
    {
     "data": {
      "application/vnd.jupyter.widget-view+json": {
       "model_id": "1c07f028a7a1485a9d9f1f2bce862ff6",
       "version_major": 2,
       "version_minor": 0
      },
      "text/plain": [
       "Validating: |          | 0/? [00:00<?, ?it/s]"
      ]
     },
     "metadata": {},
     "output_type": "display_data"
    },
    {
     "data": {
      "application/vnd.jupyter.widget-view+json": {
       "model_id": "07d2232f77ff4b3ca2c5103ceadc6853",
       "version_major": 2,
       "version_minor": 0
      },
      "text/plain": [
       "Validating: |          | 0/? [00:00<?, ?it/s]"
      ]
     },
     "metadata": {},
     "output_type": "display_data"
    },
    {
     "data": {
      "application/vnd.jupyter.widget-view+json": {
       "model_id": "f902b2991b9b4ea3bd8db99e969b9191",
       "version_major": 2,
       "version_minor": 0
      },
      "text/plain": [
       "Validating: |          | 0/? [00:00<?, ?it/s]"
      ]
     },
     "metadata": {},
     "output_type": "display_data"
    },
    {
     "data": {
      "application/vnd.jupyter.widget-view+json": {
       "model_id": "c8994c72cea944059e516a9b6ff367f1",
       "version_major": 2,
       "version_minor": 0
      },
      "text/plain": [
       "Validating: |          | 0/? [00:00<?, ?it/s]"
      ]
     },
     "metadata": {},
     "output_type": "display_data"
    },
    {
     "data": {
      "application/vnd.jupyter.widget-view+json": {
       "model_id": "5a6c3df89dd546cc8397eb995fe67e71",
       "version_major": 2,
       "version_minor": 0
      },
      "text/plain": [
       "Validating: |          | 0/? [00:00<?, ?it/s]"
      ]
     },
     "metadata": {},
     "output_type": "display_data"
    },
    {
     "data": {
      "application/vnd.jupyter.widget-view+json": {
       "model_id": "fc0b1d4fc70743be8e8056c99fb78aff",
       "version_major": 2,
       "version_minor": 0
      },
      "text/plain": [
       "Validating: |          | 0/? [00:00<?, ?it/s]"
      ]
     },
     "metadata": {},
     "output_type": "display_data"
    },
    {
     "data": {
      "application/vnd.jupyter.widget-view+json": {
       "model_id": "03969f259710478a9cdf693fe12d8e79",
       "version_major": 2,
       "version_minor": 0
      },
      "text/plain": [
       "Validating: |          | 0/? [00:00<?, ?it/s]"
      ]
     },
     "metadata": {},
     "output_type": "display_data"
    },
    {
     "data": {
      "application/vnd.jupyter.widget-view+json": {
       "model_id": "456b6cdc8c504e57be43245d2dda5dd7",
       "version_major": 2,
       "version_minor": 0
      },
      "text/plain": [
       "Testing: |          | 0/? [00:00<?, ?it/s]"
      ]
     },
     "metadata": {},
     "output_type": "display_data"
    }
   ],
   "source": [
    "configs = [\n",
    "    {\n",
    "        'optimizer': torch.optim.AdamW,\n",
    "        'optimizer_keys': {'lr': 0.0001, 'weight_decay': 0.1},\n",
    "        'scheduler': torch.optim.lr_scheduler.ReduceLROnPlateau,\n",
    "        'scheduler_keys': {'factor': 0.1, 'mode': 'max', 'patience': 10}\n",
    "    },\n",
    "]\n",
    "\n",
    "for config in configs:\n",
    "    run_category_name = config['optimizer'].__name__\n",
    "    run_version_name = '-'.join([f'{k}={v}' for k, v in config['optimizer_keys'].items()])\n",
    "\n",
    "    model = FasterRcnn(\n",
    "        train_dataset=train_dataset,\n",
    "        valid_dataset=valid_dataset,\n",
    "        test_dataset=test_dataset,\n",
    "        num_classes=num_classes,\n",
    "        batch_size=1,\n",
    "        optimizer=config['optimizer'],\n",
    "        optimizer_keys=config['optimizer_keys'],\n",
    "        scheduler=config['scheduler'],\n",
    "        scheduler_keys=config['scheduler_keys'],\n",
    "    )\n",
    "\n",
    "    tb_logger = pl.loggers.TensorBoardLogger(\n",
    "        save_dir=\"./tensor_board\",\n",
    "        name=run_category_name,\n",
    "        version=run_version_name\n",
    "    )\n",
    "\n",
    "    early_stopping = pl.callbacks.EarlyStopping(\n",
    "        patience=15,\n",
    "        mode='max',\n",
    "        monitor='val_mAP',\n",
    "        min_delta=0.0,\n",
    "        verbose=True\n",
    "    )\n",
    "\n",
    "    model_checkpoint = pl.callbacks.ModelCheckpoint(\n",
    "        dirpath='saved_models/',\n",
    "        filename=f'{run_category_name}+{run_version_name}',\n",
    "        mode='max',\n",
    "        monitor='val_mAP',\n",
    "        save_top_k=1\n",
    "    )\n",
    "\n",
    "    trainer = pl.Trainer(\n",
    "        gpus=1,\n",
    "        logger=tb_logger,\n",
    "        accumulate_grad_batches=1,\n",
    "        accelerator='dp',\n",
    "        gradient_clip_val=0.5,\n",
    "        max_epochs=150,\n",
    "        auto_lr_find=True,\n",
    "        deterministic=True,\n",
    "        callbacks=[early_stopping, model_checkpoint]\n",
    "    )\n",
    "\n",
    "    trainer.fit(model)\n",
    "    trainer.test()"
   ]
  },
  {
   "cell_type": "markdown",
   "metadata": {
    "pycharm": {
     "name": "#%% md\n"
    }
   },
   "source": [
    "## 4. Załadowanie wytrenowanego modelu (opcjonalnie)\n",
    "Poniższy kod dokonuje załadowania modelu na bazie zapisanych wag. Należy podstawić za zmienną `model_path` ścieżkę do wag, które chcemy załadować"
   ]
  },
  {
   "cell_type": "code",
   "execution_count": 5,
   "metadata": {
    "pycharm": {
     "name": "#%%\n"
    }
   },
   "outputs": [
    {
     "name": "stdout",
     "output_type": "stream",
     "text": [
      "Model ready for inference\n"
     ]
    }
   ],
   "source": [
    "# model with best performance\n",
    "model_path = \"saved_models/AdamW+lr=0.0001-weight_decay=0.1.ckpt\"\n",
    "load_pretrained = True\n",
    "\n",
    "if load_pretrained:\n",
    "    # model with .ckpt extension\n",
    "    model = FasterRcnn.load_from_checkpoint(\n",
    "        model_path,\n",
    "        train_dataset=None,\n",
    "        valid_dataset=None,\n",
    "        test_dataset=None,\n",
    "        num_classes=len(DF_CLASSIC_TRAIN['label'].unique()) + 1,\n",
    "        batch_size=1,\n",
    "        optimizer=None,\n",
    "        optimizer_keys=None,\n",
    "        scheduler=None,\n",
    "        scheduler_keys=None\n",
    "    )\n",
    "model.freeze()\n",
    "model.eval()\n",
    "model.to('cuda')\n",
    "\n",
    "print('Model ready for inference')"
   ]
  },
  {
   "cell_type": "markdown",
   "metadata": {
    "pycharm": {
     "name": "#%% md\n"
    }
   },
   "source": [
    "## 5. Test modelu (opcjonalnie)\n",
    "\n",
    "Wszystkie obrazy zawarte w poniżej PharamcyDataset są poddawane działaniu modelu detekcji obiektów.\n",
    "\n",
    "Obrazy z zaznaczonymi bounding box'ami są zapisywane w folderze `data/inference`.\n",
    "W repozytorium zapisane są wszystkie otrzymane zdjęcia półek."
   ]
  },
  {
   "cell_type": "code",
   "execution_count": 6,
   "metadata": {
    "pycharm": {
     "name": "#%%\n"
    }
   },
   "outputs": [],
   "source": [
    "class ImageDataSet(Dataset):\n",
    "\n",
    "    def __init__(self, root):\n",
    "        self.root = root\n",
    "        self.image_names = os.listdir(self.root)\n",
    "        \n",
    "    def __len__(self):\n",
    "        return len(self.image_names)\n",
    "\n",
    "    def __getitem__(self, index):\n",
    "        image_name = self.image_names[index]\n",
    "        image = cv2.imread(f'{self.root}/{image_name}', cv2.IMREAD_COLOR)\n",
    "        image = cv2.cvtColor(image, cv2.COLOR_BGR2RGB).astype(np.float32)\n",
    "        image /= 255.0\n",
    "                \n",
    "        return (ToTensorV2()(image=image)['image'], image_name)\n",
    "\n",
    "dataset = ImageDataSet(\n",
    "    root=DIR_CLASSIC_INPUT_ALL,\n",
    ")\n",
    "\n",
    "data_loader = DataLoader(\n",
    "    dataset,\n",
    "    batch_size=1,\n",
    "    num_workers=6,\n",
    "    shuffle=True,\n",
    "    collate_fn=collate_fn\n",
    ")\n",
    "\n",
    "unique_labels = DF_CLASSIC_TRAIN['label'].unique()\n",
    "unique_labels_dataframe = pd.DataFrame(data={\n",
    "    'label': unique_labels,\n",
    "    'label_id': [i+1 for i in range(unique_labels.shape[0])]\n",
    "})"
   ]
  },
  {
   "cell_type": "code",
   "execution_count": 7,
   "metadata": {
    "pycharm": {
     "name": "#%%\n"
    }
   },
   "outputs": [],
   "source": [
    "l = []\n",
    "for (images, names) in iter(data_loader):\n",
    "    images = list(image.to('cuda') for image in images)  \n",
    "    \n",
    "    for (image, image_name) in zip(images, names):\n",
    "        # image -> tensor of shape(3, 1200, 1600)\n",
    "        infer_image(\n",
    "            model=model,\n",
    "            image=image,\n",
    "            show_image=False,\n",
    "            labels_dict=unique_labels_dataframe,\n",
    "            score_threshold=0.5,\n",
    "            save_dir=DIR_OUTPUT,\n",
    "            save_name=image_name\n",
    "        )"
   ]
  },
  {
   "cell_type": "code",
   "execution_count": null,
   "metadata": {},
   "outputs": [],
   "source": []
  }
 ],
 "metadata": {
  "kernelspec": {
   "display_name": "Python 3",
   "language": "python",
   "name": "python3"
  },
  "language_info": {
   "codemirror_mode": {
    "name": "ipython",
    "version": 3
   },
   "file_extension": ".py",
   "mimetype": "text/x-python",
   "name": "python",
   "nbconvert_exporter": "python",
   "pygments_lexer": "ipython3",
   "version": "3.8.3"
  }
 },
 "nbformat": 4,
 "nbformat_minor": 1
}
